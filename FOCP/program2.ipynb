{
 "cells": [
  {
   "cell_type": "code",
   "execution_count": 1,
   "id": "cc263628-bf4b-449d-a8b6-cff8d25cf6d8",
   "metadata": {},
   "outputs": [
    {
     "name": "stdin",
     "output_type": "stream",
     "text": [
      "Hello, what is your name?  Nalini\n"
     ]
    },
    {
     "name": "stdout",
     "output_type": "stream",
     "text": [
      "Hello, Nalini. Good to meet you!\n"
     ]
    }
   ],
   "source": [
    "name = input(\"Hello, what is your name? \")\n",
    "print(f\"Hello, {name}. Good to meet you!\")"
   ]
  },
  {
   "cell_type": "code",
   "execution_count": 4,
   "id": "4f2ca598-ca48-40ce-abd7-349feaedd5a4",
   "metadata": {},
   "outputs": [
    {
     "name": "stdin",
     "output_type": "stream",
     "text": [
      "Enter temperature in celsius:  45.2\n"
     ]
    },
    {
     "name": "stdout",
     "output_type": "stream",
     "text": [
      "45.2C is equivalent to 113.36F.\n"
     ]
    }
   ],
   "source": [
    "Celsius = float(input(\"Enter temperature in celsius: \"))\n",
    "Fahrenheit = (Celsius * 9/5) + 32\n",
    "print(f\"{Celsius}C is equivalent to {Fahrenheit}F.\")\n"
   ]
  },
  {
   "cell_type": "code",
   "execution_count": 15,
   "id": "26c9c557-f3cf-412a-b2be-02b12d836fc5",
   "metadata": {},
   "outputs": [
    {
     "name": "stdin",
     "output_type": "stream",
     "text": [
      "How many students?  31\n",
      "Required group size?  5\n"
     ]
    },
    {
     "name": "stdout",
     "output_type": "stream",
     "text": [
      "There will be 6 groups with 1 student left over.\n"
     ]
    }
   ],
   "source": [
    "students = int(input(\"How many students? \"))\n",
    "group_size = int(input(\"Required group size? \"))\n",
    "\n",
    "groups_required = students // group_size\n",
    "students_left = students % group_size\n",
    "\n",
    "if students_left ==1:\n",
    "    print(f\"There will be {groups_required} groups with {students_left} student left over.\")\n",
    "else:\n",
    "    print(f\"There will be {groups_required} groups with {students_left} students left over.\")"
   ]
  },
  {
   "cell_type": "code",
   "execution_count": 19,
   "id": "ba8cdd89-02b2-42fb-bd26-2f7158e65c78",
   "metadata": {},
   "outputs": [
    {
     "name": "stdin",
     "output_type": "stream",
     "text": [
      "Enter the number of pupils present:  6\n",
      "Enter the amount of sweets you have:  30\n"
     ]
    },
    {
     "name": "stdout",
     "output_type": "stream",
     "text": [
      "You must distribute 5 sweets to each pupil, you will have 0 sweets left over.\n"
     ]
    }
   ],
   "source": [
    "pupils = int(input(\"Enter the number of pupils present: \"))\n",
    "sweets_available = int(input(\"Enter the amount of sweets you have: \"))\n",
    "\n",
    "sweet_to_distribute = sweets_available // pupils\n",
    "sweets_left = sweets_available % pupils\n",
    "\n",
    "print(f\"You must distribute {sweet_to_distribute} sweets to each pupil, you will have {sweets_left} sweets left over.\") "
   ]
  },
  {
   "cell_type": "code",
   "execution_count": null,
   "id": "7827e485-b02d-4737-9ef8-77b52a2558f8",
   "metadata": {},
   "outputs": [],
   "source": []
  }
 ],
 "metadata": {
  "kernelspec": {
   "display_name": "Python 3 (ipykernel)",
   "language": "python",
   "name": "python3"
  },
  "language_info": {
   "codemirror_mode": {
    "name": "ipython",
    "version": 3
   },
   "file_extension": ".py",
   "mimetype": "text/x-python",
   "name": "python",
   "nbconvert_exporter": "python",
   "pygments_lexer": "ipython3",
   "version": "3.12.1"
  }
 },
 "nbformat": 4,
 "nbformat_minor": 5
}
